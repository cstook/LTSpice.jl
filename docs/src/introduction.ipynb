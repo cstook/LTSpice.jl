{
 "cells": [
  {
   "cell_type": "markdown",
   "metadata": {},
   "source": [
    "# Introduction to LTspice.jl\n",
    "\n",
    "a julia interface to [LTspice<sup>TM</sup>](http://www.linear.com/designtools/software/#LTspice)"
   ]
  },
  {
   "cell_type": "markdown",
   "metadata": {},
   "source": [
    "<img src=\"circuit1.jpg\">"
   ]
  },
  {
   "cell_type": "code",
   "execution_count": 1,
   "metadata": {
    "collapsed": false
   },
   "outputs": [],
   "source": [
    "using LTspice   # load the module"
   ]
  },
  {
   "cell_type": "code",
   "execution_count": 2,
   "metadata": {
    "collapsed": false
   },
   "outputs": [
    {
     "data": {
      "text/plain": [
       "LTspiceSimulation:\n",
       "circuit path = C:\\Users\\Chris\\AppData\\Local\\Temp\\jl_8951.tmp\\circuit1.asc\n",
       "\n",
       "Parameters\n",
       "rsource                   = 50.0\n",
       "rload                     = 75.0\n",
       "\n",
       "Measurements\n",
       "Vload                    \n",
       "Pload                    \n"
      ]
     },
     "execution_count": 2,
     "metadata": {},
     "output_type": "execute_result"
    }
   ],
   "source": [
    "# create an simulation object \n",
    "circuitpath = \"circuit1.asc\"\n",
    "circuit1 = LTspiceSimulation(circuitpath,tempdir=true)"
   ]
  },
  {
   "cell_type": "markdown",
   "metadata": {},
   "source": [
    "Note: Use tempdir=true to create an LTspiceSimulation object with a copy of the circuit in a temporary directory"
   ]
  },
  {
   "cell_type": "code",
   "execution_count": 3,
   "metadata": {
    "collapsed": false
   },
   "outputs": [
    {
     "data": {
      "text/plain": [
       "50.0"
      ]
     },
     "execution_count": 3,
     "metadata": {},
     "output_type": "execute_result"
    }
   ],
   "source": [
    "# circuit1 is a Dict like object\n",
    "inputresistor = circuit1[\"rsource\"]  # read a paramater by name"
   ]
  },
  {
   "cell_type": "code",
   "execution_count": 4,
   "metadata": {
    "collapsed": false
   },
   "outputs": [
    {
     "data": {
      "text/plain": [
       "40.0"
      ]
     },
     "execution_count": 4,
     "metadata": {},
     "output_type": "execute_result"
    }
   ],
   "source": [
    "circuit1[\"rsource\"] = 40.0  # write parameter by name."
   ]
  },
  {
   "cell_type": "code",
   "execution_count": 5,
   "metadata": {
    "collapsed": false
   },
   "outputs": [
    {
     "data": {
      "text/plain": [
       "0.00567108"
      ]
     },
     "execution_count": 5,
     "metadata": {},
     "output_type": "execute_result"
    }
   ],
   "source": [
    "loadpower = circuit1[\"Pload\"] # measurements can also be read by name\n",
    "# since a valid measurement was not available, this caused a simulation run"
   ]
  },
  {
   "cell_type": "code",
   "execution_count": 6,
   "metadata": {
    "collapsed": false
   },
   "outputs": [
    {
     "data": {
      "text/plain": [
       "LTspiceSimulation:\n",
       "circuit path = C:\\Users\\Chris\\AppData\\Local\\Temp\\jl_8951.tmp\\circuit1.asc\n",
       "\n",
       "Parameters\n",
       "rsource                   = 40.0\n",
       "rload                     = 75.0\n",
       "\n",
       "Measurements\n",
       "Vload                     = 0.652174\n",
       "Pload                     = 0.00567108\n",
       "\n",
       "Last Run\n",
       "time = 2016-10-22T22:35:49\n",
       "duration = 0.007\n"
      ]
     },
     "execution_count": 6,
     "metadata": {},
     "output_type": "execute_result"
    }
   ],
   "source": [
    "circuit1"
   ]
  },
  {
   "cell_type": "code",
   "execution_count": 7,
   "metadata": {
    "collapsed": false
   },
   "outputs": [
    {
     "ename": "LoadError",
     "evalue": "LoadError: measurements cannot be set.\nwhile loading In[7], in expression starting on line 1",
     "output_type": "error",
     "traceback": [
      "LoadError: measurements cannot be set.\nwhile loading In[7], in expression starting on line 1",
      "",
      " in setindex!(::LTspice.LTspiceSimulation{2,2,1,0}, ::Float64, ::String) at C:\\Users\\Chris\\.julia\\v0.5\\LTspice\\src\\LTspiceSimulation.jl:334"
     ]
    }
   ],
   "source": [
    "circuit1[\"Pload\"] = 1.0 # WRONG.  measurements cannot be writen."
   ]
  },
  {
   "cell_type": "code",
   "execution_count": 8,
   "metadata": {
    "collapsed": false
   },
   "outputs": [
    {
     "data": {
      "text/plain": [
       "true"
      ]
     },
     "execution_count": 8,
     "metadata": {},
     "output_type": "execute_result"
    }
   ],
   "source": [
    "haskey(circuit1,\"rload\")  # can check for keys"
   ]
  },
  {
   "cell_type": "code",
   "execution_count": 9,
   "metadata": {
    "collapsed": false
   },
   "outputs": [
    {
     "data": {
      "text/plain": [
       "(String[\"rload\",\"rsource\",\"Pload\",\"Vload\"],[75.0,40.0,0.00567108,0.652174])"
      ]
     },
     "execution_count": 9,
     "metadata": {},
     "output_type": "execute_result"
    }
   ],
   "source": [
    "keys(circuit1),values(circuit1) # arrays of keys and values\n",
    "# unlike standard Dict, these will always be in order."
   ]
  },
  {
   "cell_type": "code",
   "execution_count": 10,
   "metadata": {
    "collapsed": false
   },
   "outputs": [
    {
     "data": {
      "text/plain": [
       "(\"rsource\",\"rload\")"
      ]
     },
     "execution_count": 10,
     "metadata": {},
     "output_type": "execute_result"
    }
   ],
   "source": [
    "parameternames(circuit1)  # tuple of parameter names"
   ]
  },
  {
   "cell_type": "code",
   "execution_count": 11,
   "metadata": {
    "collapsed": false
   },
   "outputs": [
    {
     "data": {
      "text/plain": [
       "2-element LTspice.ParameterValuesArray{Float64,1}:\n",
       " 40.0\n",
       " 75.0"
      ]
     },
     "execution_count": 11,
     "metadata": {},
     "output_type": "execute_result"
    }
   ],
   "source": [
    "parametervalues(circuit1) # array of parameter values"
   ]
  },
  {
   "cell_type": "code",
   "execution_count": 12,
   "metadata": {
    "collapsed": false
   },
   "outputs": [
    {
     "data": {
      "text/plain": [
       "(\"Vload\",\"Pload\")"
      ]
     },
     "execution_count": 12,
     "metadata": {},
     "output_type": "execute_result"
    }
   ],
   "source": [
    "measurementnames(circuit1) # tuple of measurement names"
   ]
  },
  {
   "cell_type": "code",
   "execution_count": 13,
   "metadata": {
    "collapsed": false
   },
   "outputs": [
    {
     "data": {
      "text/plain": [
       "2-element LTspice.MeasurementValuesArray{Float64,1}:\n",
       " 0.652174  \n",
       " 0.00567108"
      ]
     },
     "execution_count": 13,
     "metadata": {},
     "output_type": "execute_result"
    }
   ],
   "source": [
    "measurementvalues(circuit1) # array of measurement values."
   ]
  },
  {
   "cell_type": "code",
   "execution_count": 14,
   "metadata": {
    "collapsed": false
   },
   "outputs": [
    {
     "data": {
      "text/plain": [
       "2-element LTspice.MeasurementValuesArray{Float64,1}:\n",
       " 0.666667\n",
       " 0.222222"
      ]
     },
     "execution_count": 14,
     "metadata": {},
     "output_type": "execute_result"
    }
   ],
   "source": [
    "rsource = 1.0\n",
    "rload = 2.0\n",
    "(vload,pload) = circuit1(rsource,rload) # simulation can be called"
   ]
  },
  {
   "cell_type": "code",
   "execution_count": 15,
   "metadata": {
    "collapsed": false
   },
   "outputs": [
    {
     "data": {
      "text/plain": [
       "49.973239886404734"
      ]
     },
     "execution_count": 15,
     "metadata": {},
     "output_type": "execute_result"
    }
   ],
   "source": [
    "# call synthax is convenient for optimization\n",
    "using Optim  # assumes Optim is installed\n",
    "# find rload for max power\n",
    "rsource = 50.0\n",
    "result = optimize(rload -> -circuit1(rsource,rload)[2],10.0,100.0)\n",
    "circuit1[\"rload\"]"
   ]
  },
  {
   "cell_type": "markdown",
   "metadata": {},
   "source": [
    "<img src=\"circuit2.jpg\">"
   ]
  },
  {
   "cell_type": "code",
   "execution_count": 16,
   "metadata": {
    "collapsed": false
   },
   "outputs": [
    {
     "data": {
      "text/plain": [
       "LTspiceSimulation:\n",
       "circuit path = C:\\Users\\Chris\\AppData\\Local\\Temp\\jl_E77B.tmp\\circuit2.asc\n",
       "\n",
       "Parameters\n",
       "rsource                   = 50.0\n",
       "\n",
       "Measurements\n",
       "Vload                    \n",
       "Pload                    \n",
       "\n",
       "Steps\n",
       "rload                    \n",
       "vin                      \n"
      ]
     },
     "execution_count": 16,
     "metadata": {},
     "output_type": "execute_result"
    }
   ],
   "source": [
    "# create an LTspiceSimulation object for a stepped simulation\n",
    "circuitpath = \"circuit2.asc\"\n",
    "circuit2 = LTspiceSimulation(circuitpath,tempdir=true)"
   ]
  },
  {
   "cell_type": "code",
   "execution_count": 17,
   "metadata": {
    "collapsed": false
   },
   "outputs": [
    {
     "data": {
      "text/plain": [
       "50.0"
      ]
     },
     "execution_count": 17,
     "metadata": {},
     "output_type": "execute_result"
    }
   ],
   "source": [
    "# parameters are a Dict for stepped simualtion\n",
    "inputresistance = circuit2[\"rsource\"] "
   ]
  },
  {
   "cell_type": "code",
   "execution_count": 18,
   "metadata": {
    "collapsed": false
   },
   "outputs": [
    {
     "data": {
      "text/plain": [
       "7×3 Array{Float64,2}:\n",
       " 0.285714  0.285714  0.285714\n",
       " 0.375     0.375     0.375   \n",
       " 0.444444  0.444444  0.444444\n",
       " 0.5       0.5       0.5     \n",
       " 0.545455  0.545455  0.545455\n",
       " 0.583333  0.583333  0.583333\n",
       " 0.615385  0.615385  0.615385"
      ]
     },
     "execution_count": 18,
     "metadata": {},
     "output_type": "execute_result"
    }
   ],
   "source": [
    "loadvoltage = circuit2[\"Vload\"]"
   ]
  },
  {
   "cell_type": "code",
   "execution_count": 19,
   "metadata": {
    "collapsed": false
   },
   "outputs": [
    {
     "data": {
      "text/plain": [
       "7×3×2 LTspice.MeasurementValuesArray{Float64,3}:\n",
       "[:, :, 1] =\n",
       " 0.285714  0.285714  0.285714\n",
       " 0.375     0.375     0.375   \n",
       " 0.444444  0.444444  0.444444\n",
       " 0.5       0.5       0.5     \n",
       " 0.545455  0.545455  0.545455\n",
       " 0.583333  0.583333  0.583333\n",
       " 0.615385  0.615385  0.615385\n",
       "\n",
       "[:, :, 2] =\n",
       " 0.00408163  0.00408163  0.00408163\n",
       " 0.0046875   0.0046875   0.0046875 \n",
       " 0.00493827  0.00493827  0.00493827\n",
       " 0.005       0.005       0.005     \n",
       " 0.00495868  0.00495868  0.00495868\n",
       " 0.00486111  0.00486111  0.00486111\n",
       " 0.00473373  0.00473373  0.00473373"
      ]
     },
     "execution_count": 19,
     "metadata": {},
     "output_type": "execute_result"
    }
   ],
   "source": [
    "measurementvalues(circuit2)\n",
    "# indexes are [inner_step, middle_step, outer_step, measurement]\n",
    "# LTspice supports a maximum of 3 .step directives"
   ]
  },
  {
   "cell_type": "code",
   "execution_count": 20,
   "metadata": {
    "collapsed": false
   },
   "outputs": [
    {
     "data": {
      "text/plain": [
       "(\"rload\",\"vin\")"
      ]
     },
     "execution_count": 20,
     "metadata": {},
     "output_type": "execute_result"
    }
   ],
   "source": [
    "stepnames(circuit2) # tuple of step names"
   ]
  },
  {
   "cell_type": "code",
   "execution_count": 21,
   "metadata": {
    "collapsed": false
   },
   "outputs": [
    {
     "data": {
      "text/plain": [
       "([20.0,30.0,40.0,50.0,60.0,70.0,80.0],[1.0,2.0,3.0])"
      ]
     },
     "execution_count": 21,
     "metadata": {},
     "output_type": "execute_result"
    }
   ],
   "source": [
    "stepvalues(circuit2) # tuple of arrays of step values"
   ]
  },
  {
   "cell_type": "code",
   "execution_count": 22,
   "metadata": {
    "collapsed": false
   },
   "outputs": [],
   "source": [
    "# use perlineiterator to write circuit2 to csv with headers\n",
    "open(\"test.csv\",false,true,true,false,false) do io\n",
    "    writecsv(io,perlineiterator(circuit2,header=true))\n",
    "end"
   ]
  },
  {
   "cell_type": "code",
   "execution_count": 23,
   "metadata": {
    "collapsed": false
   },
   "outputs": [
    {
     "name": "stdout",
     "output_type": "stream",
     "text": [
      "(\"rload\",\"vin\",\"rsource\",\"Vload\",\"Pload\")\n",
      "(20.0,1.0,50.0,0.285714,0.00408163)\n",
      "(30.0,1.0,50.0,0.375,0.0046875)\n",
      "(40.0,1.0,50.0,0.444444,0.00493827)\n",
      "(50.0,1.0,50.0,0.5,0.005)\n",
      "(60.0,1.0,50.0,0.545455,0.00495868)\n",
      "(70.0,1.0,50.0,0.583333,0.00486111)\n",
      "(80.0,1.0,50.0,0.615385,0.00473373)\n",
      "(20.0,2.0,50.0,0.285714,0.00408163)\n",
      "(30.0,2.0,50.0,0.375,0.0046875)\n",
      "(40.0,2.0,50.0,0.444444,0.00493827)\n",
      "(50.0,2.0,50.0,0.5,0.005)\n",
      "(60.0,2.0,50.0,0.545455,0.00495868)\n",
      "(70.0,2.0,50.0,0.583333,0.00486111)\n",
      "(80.0,2.0,50.0,0.615385,0.00473373)\n",
      "(20.0,3.0,50.0,0.285714,0.00408163)\n",
      "(30.0,3.0,50.0,0.375,0.0046875)\n",
      "(40.0,3.0,50.0,0.444444,0.00493827)\n",
      "(50.0,3.0,50.0,0.5,0.005)\n",
      "(60.0,3.0,50.0,0.545455,0.00495868)\n",
      "(70.0,3.0,50.0,0.583333,0.00486111)\n",
      "(80.0,3.0,50.0,0.615385,0.00473373)\n"
     ]
    }
   ],
   "source": [
    "# this is what it looks like\n",
    "for line in perlineiterator(circuit2,header=true)\n",
    "    println(line)\n",
    "end"
   ]
  }
 ],
 "metadata": {
  "kernelspec": {
   "display_name": "Julia 0.5.0",
   "language": "julia",
   "name": "julia-0.5"
  },
  "language_info": {
   "file_extension": ".jl",
   "mimetype": "application/julia",
   "name": "julia",
   "version": "0.5.0"
  }
 },
 "nbformat": 4,
 "nbformat_minor": 0
}
