{
 "cells": [
  {
   "cell_type": "code",
   "execution_count": 1,
   "metadata": {
    "collapsed": false
   },
   "outputs": [
    {
     "data": {
      "text/plain": [
       "Plots.PlotlyJSBackend()"
      ]
     },
     "execution_count": 1,
     "metadata": {},
     "output_type": "execute_result"
    }
   ],
   "source": [
    "using LTspice, Plots\n",
    "plotlyjs()"
   ]
  },
  {
   "cell_type": "code",
   "execution_count": 7,
   "metadata": {
    "collapsed": false
   },
   "outputs": [
    {
     "data": {
      "text/plain": [
       "LTspiceSimulation:\n",
       "circuit path = C:\\Users\\Chris\\AppData\\Local\\Temp\\jul8C83.tmp\\example2.asc\n",
       "\n",
       "Parameters\n",
       "vin                       = 4.0\n",
       "iout                      = 1.0\n",
       "rset                      = 40200.0\n",
       "\n",
       "Measurements\n",
       "pin                       = NaN\n",
       "pout                      = NaN\n"
      ]
     },
     "execution_count": 7,
     "metadata": {},
     "output_type": "execute_result"
    }
   ],
   "source": [
    "example2 = LTspiceSimulationTempDir(\"example2.asc\")"
   ]
  },
  {
   "cell_type": "code",
   "execution_count": 3,
   "metadata": {
    "collapsed": false
   },
   "outputs": [
    {
     "name": "stdout",
     "output_type": "stream",
     "text": [
      "402.692638 seconds (724.11 k allocations: 32.359 MB, 0.00% gc time)\n"
     ]
    },
    {
     "data": {
      "text/plain": [
       "10x4 Array{Float64,2}:\n",
       " 0.954116  0.950051  0.934405  0.951305\n",
       " 0.947885  0.945314  0.93304   0.93034 \n",
       " 0.9221    0.930591  0.921008  0.91829 \n",
       " 0.906305  0.921199  0.914172  0.908529\n",
       " 0.894176  0.915086  0.910579  0.899068\n",
       " 0.882537  0.908187  0.906325  0.902246\n",
       " 0.8699    0.900882  0.902087  0.893172\n",
       " 0.860201  0.89374   0.897356  0.890412\n",
       " 0.846222  0.887172  0.892286  0.887393\n",
       " 0.830309  0.879789  0.887971  0.883673"
      ]
     },
     "execution_count": 3,
     "metadata": {},
     "output_type": "execute_result"
    }
   ],
   "source": [
    "rfb(vout)= 0.6*60.4e3/(vout-0.6)\n",
    "vin_list = linspace(6.0,20.0,10)\n",
    "iout_list = linspace(0.5,3.0,4)\n",
    "function compute_efficiency_array(vin_list, iout_list, vout)\n",
    "    efficiency = Array(Float64,(length(vin_list),length(iout_list)))\n",
    "    for vin_index in eachindex(vin_list)\n",
    "        for iout_index in eachindex(iout_list)\n",
    "            (pin,pout) = example2(vin_list[vin_index],iout_list[iout_index],rfb(vout))\n",
    "            efficiency[vin_index,iout_index] = -pout/pin\n",
    "        end\n",
    "    end\n",
    "    return efficiency\n",
    "end\n",
    "@time efficiency = compute_efficiency_array(vin_list, iout_list, 3.3)"
   ]
  },
  {
   "cell_type": "code",
   "execution_count": 5,
   "metadata": {
    "collapsed": false
   },
   "outputs": [
    {
     "data": {
      "text/html": [
       "<div id=\"96e9996e-aaa1-4cd8-9652-3b2503ec4d4f\" class=\"plotly-graph-div\"></div>\n",
       "\n",
       "<script>\n",
       "    window.PLOTLYENV=window.PLOTLYENV || {};\n",
       "    window.PLOTLYENV.BASE_URL=\"https://plot.ly\";\n",
       "    require(['plotly'], function(Plotly) {\n",
       "        Plotly.newPlot('96e9996e-aaa1-4cd8-9652-3b2503ec4d4f', [{\"type\":\"scatter\",\"y\":[0.9541160515578634,0.9478853616129516,0.922100323135252,0.9063048683160414,0.8941755270045723,0.8825373686269676,0.8699003174837956,0.860200899503236,0.8462218339713778,0.8303090194971186],\"name\":\"Iout=0.50\",\"line\":{\"width\":1,\"dash\":\"solid\",\"color\":\"rgba(0, 154, 250, 1.000)\",\"shape\":\"linear\"},\"x\":[6.0,7.555555555555555,9.11111111111111,10.666666666666666,12.222222222222221,13.777777777777779,15.333333333333334,16.88888888888889,18.444444444444443,20.0],\"mode\":\"lines\"},{\"type\":\"scatter\",\"y\":[0.9500510964076628,0.9453140987392107,0.9305908072152991,0.9211988917807069,0.9150863147360521,0.9081868912904486,0.9008819297781115,0.8937400992820578,0.8871720452492163,0.8797889888581789],\"name\":\"Iout=1.33\",\"line\":{\"width\":1,\"dash\":\"solid\",\"color\":\"rgba(227, 111, 71, 1.000)\",\"shape\":\"linear\"},\"x\":[6.0,7.555555555555555,9.11111111111111,10.666666666666666,12.222222222222221,13.777777777777779,15.333333333333334,16.88888888888889,18.444444444444443,20.0],\"mode\":\"lines\"},{\"type\":\"scatter\",\"y\":[0.9344047804774446,0.9330402138315056,0.921008431589909,0.9141718793679615,0.9105794898649944,0.9063250040680172,0.9020874613140201,0.897355798578029,0.892286243841147,0.8879712957035716],\"name\":\"Iout=2.17\",\"line\":{\"width\":1,\"dash\":\"solid\",\"color\":\"rgba(62, 164, 78, 1.000)\",\"shape\":\"linear\"},\"x\":[6.0,7.555555555555555,9.11111111111111,10.666666666666666,12.222222222222221,13.777777777777779,15.333333333333334,16.88888888888889,18.444444444444443,20.0],\"mode\":\"lines\"},{\"type\":\"scatter\",\"y\":[0.9513054177721384,0.9303401283609942,0.9182895165418082,0.9085287669718687,0.8990678390815071,0.9022460705202101,0.893172334513066,0.8904124669512096,0.8873928722380597,0.8836733231843825],\"name\":\"Iout=3.00\",\"line\":{\"width\":1,\"dash\":\"solid\",\"color\":\"rgba(195, 113, 210, 1.000)\",\"shape\":\"linear\"},\"x\":[6.0,7.555555555555555,9.11111111111111,10.666666666666666,12.222222222222221,13.777777777777779,15.333333333333334,16.88888888888889,18.444444444444443,20.0],\"mode\":\"lines\"}],  {\"yaxis\":{\"linecolor\":\"rgba(0, 0, 0, 1.000)\",\"type\":\"-\",\"titlefont\":{\"size\":15,\"color\":\"rgba(0, 0, 0, 1.000)\",\"family\":\"Helvetica\"},\"tickcolor\":\"rgba(0, 0, 0, 1.000)\",\"title\":\"Efficiency\",\"showgrid\":true,\"zeroline\":false,\"tickfont\":{\"size\":11,\"color\":\"rgba(0, 0, 0, 1.000)\",\"family\":\"Helvetica\"}},\"annotations\":[],\"width\":600,\"showlegend\":true,\"legend\":{\"bgcolor\":\"rgba(255, 255, 255, 1.000)\",\"font\":{\"size\":11,\"color\":\"rgb(0, 0, 0)\",\"family\":\"Helvetica\"},\"bordercolor\":\"rgba(0, 0, 0, 1.000)\"},\"titlefont\":{\"size\":15,\"color\":\"rgba(0, 0, 0, 1.000)\",\"family\":\"Helvetica\"},\"xaxis\":{\"linecolor\":\"rgba(0, 0, 0, 1.000)\",\"type\":\"-\",\"titlefont\":{\"size\":15,\"color\":\"rgba(0, 0, 0, 1.000)\",\"family\":\"Helvetica\"},\"tickcolor\":\"rgba(0, 0, 0, 1.000)\",\"title\":\"Vin (V)\",\"showgrid\":true,\"zeroline\":false,\"tickfont\":{\"size\":11,\"color\":\"rgba(0, 0, 0, 1.000)\",\"family\":\"Helvetica\"}},\"title\":\"LTM6423 Efficiency, Vout = 3.3V\",\"margin\":{\"r\":8,\"l\":35,\"b\":30,\"t\":20},\"height\":400,\"plot_bgcolor\":\"rgba(255, 255, 255, 1.000)\",\"paper_bgcolor\":\"rgba(255, 255, 255, 1.000)\"}, {showLink: false});\n",
       "\n",
       "    });\n",
       " </script>\n"
      ]
     },
     "execution_count": 5,
     "metadata": {},
     "output_type": "execute_result"
    }
   ],
   "source": [
    "plt = plot()\n",
    "for iout_index in eachindex(iout_list)\n",
    "    plot!(plt,vin_list,efficiency[:,iout_index],label = \"Iout=\"*@sprintf(\"%2.2f\",iout_list[iout_index]))\n",
    "end\n",
    "plot!(plt, title = \"LTM6423 Efficiency, Vout = 3.3V\")\n",
    "plot!(plt, xlabel = \"Vin (V)\", ylabel = \"Efficiency\")"
   ]
  }
 ],
 "metadata": {
  "kernelspec": {
   "display_name": "Julia 0.4.5",
   "language": "julia",
   "name": "julia-0.4"
  },
  "language_info": {
   "file_extension": ".jl",
   "mimetype": "application/julia",
   "name": "julia",
   "version": "0.4.5"
  }
 },
 "nbformat": 4,
 "nbformat_minor": 0
}
