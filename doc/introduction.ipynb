{
 "cells": [
  {
   "cell_type": "markdown",
   "metadata": {},
   "source": [
    "#Introduction to LTspice.jl\n",
    "\n",
    "a julia interface to [LTspice<sup>TM</sup>](http://www.linear.com/designtools/software/#LTspice)"
   ]
  },
  {
   "cell_type": "markdown",
   "metadata": {},
   "source": [
    "<img src=\"circuit1.jpg\">"
   ]
  },
  {
   "cell_type": "code",
   "execution_count": 1,
   "metadata": {
    "collapsed": true
   },
   "outputs": [],
   "source": [
    "using LTspice   # load the module"
   ]
  },
  {
   "cell_type": "code",
   "execution_count": 2,
   "metadata": {
    "collapsed": false
   },
   "outputs": [
    {
     "data": {
      "text/plain": [
       "LTspiceSimulation!:\n",
       "circuit path = C:\\Users\\Chris\\AppData\\Local\\Temp\\julCEA6.tmp\\circuit1.asc\n",
       "\n",
       "Parameters\n",
       "rsource                   = 50.0\n",
       "rload                     = 75.0\n",
       "\n",
       "Measurements\n",
       "vload                     = NaN\n",
       "pload                     = NaN\n"
      ]
     },
     "execution_count": 2,
     "metadata": {},
     "output_type": "execute_result"
    }
   ],
   "source": [
    "# create an simulation object \n",
    "# with either LTspiceSimulation! or LTspiceSimulation\n",
    "circuitpath = \"circuit1.asc\"\n",
    "executablepath = \"C:/Program Files (x86)/LTC/LTspiceIV/scad3.exe\"\n",
    "circuit1 = LTspiceSimulation(circuitpath,executablepath)"
   ]
  },
  {
   "cell_type": "markdown",
   "metadata": {},
   "source": [
    "Notes: \n",
    "1. Using LTspiceSimulation to create an LTspiceSimulation! object copies circuit to a temporary directory.\n",
    "2. Names are all lower case within julia."
   ]
  },
  {
   "cell_type": "code",
   "execution_count": 3,
   "metadata": {
    "collapsed": false
   },
   "outputs": [
    {
     "data": {
      "text/plain": [
       "50.0"
      ]
     },
     "execution_count": 3,
     "metadata": {},
     "output_type": "execute_result"
    }
   ],
   "source": [
    "# circuit1 is a Dict like object\n",
    "inputresistor = circuit1[\"rsource\"]  # read a paramater by name"
   ]
  },
  {
   "cell_type": "code",
   "execution_count": 4,
   "metadata": {
    "collapsed": false
   },
   "outputs": [
    {
     "data": {
      "text/plain": [
       "40.0"
      ]
     },
     "execution_count": 4,
     "metadata": {},
     "output_type": "execute_result"
    }
   ],
   "source": [
    "circuit1[\"rsource\"] = 40.0  # write parameter by name."
   ]
  },
  {
   "cell_type": "code",
   "execution_count": 5,
   "metadata": {
    "collapsed": false
   },
   "outputs": [
    {
     "data": {
      "text/plain": [
       "0.00567108"
      ]
     },
     "execution_count": 5,
     "metadata": {},
     "output_type": "execute_result"
    }
   ],
   "source": [
    "loadpower = circuit1[\"pload\"] # measurements can also be read by name\n",
    "# since a valid measurement was not available, this caused a simulation run"
   ]
  },
  {
   "cell_type": "code",
   "execution_count": 6,
   "metadata": {
    "collapsed": false
   },
   "outputs": [
    {
     "data": {
      "text/plain": [
       "LTspiceSimulation!:\n",
       "circuit path = C:\\Users\\Chris\\AppData\\Local\\Temp\\julCEA6.tmp\\circuit1.asc\n",
       "\n",
       "Parameters\n",
       "rsource                   = 40.0\n",
       "rload                     = 75.0\n",
       "\n",
       "Measurements\n",
       "vload                     = 0.652174\n",
       "pload                     = 0.00567108\n"
      ]
     },
     "execution_count": 6,
     "metadata": {},
     "output_type": "execute_result"
    }
   ],
   "source": [
    "circuit1"
   ]
  },
  {
   "cell_type": "code",
   "execution_count": 7,
   "metadata": {
    "collapsed": false
   },
   "outputs": [
    {
     "ename": "LoadError",
     "evalue": "LoadError: measurements cannot be set.\nwhile loading In[7], in expression starting on line 1",
     "output_type": "error",
     "traceback": [
      "LoadError: measurements cannot be set.\nwhile loading In[7], in expression starting on line 1",
      "",
      " in setindex! at C:\\Users\\Chris\\.julia\\v0.4\\LTspice\\src\\LTspice.jl:158"
     ]
    }
   ],
   "source": [
    "circuit1[\"pload\"] = 1.0 # WRONG.  measurements cannot be writen."
   ]
  },
  {
   "cell_type": "code",
   "execution_count": 8,
   "metadata": {
    "collapsed": false
   },
   "outputs": [
    {
     "data": {
      "text/plain": [
       "true"
      ]
     },
     "execution_count": 8,
     "metadata": {},
     "output_type": "execute_result"
    }
   ],
   "source": [
    "haskey(circuit1,\"rload\")  # can check for keys"
   ]
  },
  {
   "cell_type": "code",
   "execution_count": 9,
   "metadata": {
    "collapsed": false
   },
   "outputs": [
    {
     "data": {
      "text/plain": [
       "(ASCIIString[\"rsource\",\"rload\",\"vload\",\"pload\"],[40.0,75.0,0.652174,0.00567108])"
      ]
     },
     "execution_count": 9,
     "metadata": {},
     "output_type": "execute_result"
    }
   ],
   "source": [
    "keys(circuit1),values(circuit1) # arrays of keys and values\n",
    "# unlike standard Dict, these will always be in order."
   ]
  },
  {
   "cell_type": "code",
   "execution_count": 10,
   "metadata": {
    "collapsed": false
   },
   "outputs": [
    {
     "data": {
      "text/plain": [
       "2-element Array{ASCIIString,1}:\n",
       " \"rsource\"\n",
       " \"rload\"  "
      ]
     },
     "execution_count": 10,
     "metadata": {},
     "output_type": "execute_result"
    }
   ],
   "source": [
    "getparameternames(circuit1)  # array of parameter names"
   ]
  },
  {
   "cell_type": "code",
   "execution_count": 11,
   "metadata": {
    "collapsed": false
   },
   "outputs": [
    {
     "data": {
      "text/plain": [
       "2-element Array{Float64,1}:\n",
       " 40.0\n",
       " 75.0"
      ]
     },
     "execution_count": 11,
     "metadata": {},
     "output_type": "execute_result"
    }
   ],
   "source": [
    "getparameters(circuit1) # array of parameter values"
   ]
  },
  {
   "cell_type": "code",
   "execution_count": 12,
   "metadata": {
    "collapsed": false
   },
   "outputs": [
    {
     "data": {
      "text/plain": [
       "2-element Array{ASCIIString,1}:\n",
       " \"vload\"\n",
       " \"pload\""
      ]
     },
     "execution_count": 12,
     "metadata": {},
     "output_type": "execute_result"
    }
   ],
   "source": [
    "getmeasurementnames(circuit1) # array of measurement names"
   ]
  },
  {
   "cell_type": "code",
   "execution_count": 13,
   "metadata": {
    "collapsed": false
   },
   "outputs": [
    {
     "data": {
      "text/plain": [
       "2x1x1x1 Array{Float64,4}:\n",
       "[:, :, 1, 1] =\n",
       " 0.652174  \n",
       " 0.00567108"
      ]
     },
     "execution_count": 13,
     "metadata": {},
     "output_type": "execute_result"
    }
   ],
   "source": [
    "getmeasurements(circuit1) # Array{Float64,4} of measurement values."
   ]
  },
  {
   "cell_type": "code",
   "execution_count": 14,
   "metadata": {
    "collapsed": false
   },
   "outputs": [
    {
     "data": {
      "text/plain": [
       "2-element Array{Float64,1}:\n",
       " 0.666667\n",
       " 0.222222"
      ]
     },
     "execution_count": 14,
     "metadata": {},
     "output_type": "execute_result"
    }
   ],
   "source": [
    "rsource = 1.0\n",
    "rload = 2.0\n",
    "(vload,pload) = circuit1(rsource,rload) # simulation can be called"
   ]
  },
  {
   "cell_type": "code",
   "execution_count": 15,
   "metadata": {
    "collapsed": false
   },
   "outputs": [
    {
     "data": {
      "text/plain": [
       "49.9784178958797"
      ]
     },
     "execution_count": 15,
     "metadata": {},
     "output_type": "execute_result"
    }
   ],
   "source": [
    "# call synthax is convenient for optimization\n",
    "using Optim  # assumes Optim is installed\n",
    "# find rload for max power\n",
    "rsource = 50.0\n",
    "result = optimize(rload -> -circuit1(rsource,rload)[2],10.0,100.0)\n",
    "circuit1[\"rload\"]"
   ]
  },
  {
   "cell_type": "markdown",
   "metadata": {},
   "source": [
    "<img src=\"circuit2.jpg\">"
   ]
  },
  {
   "cell_type": "code",
   "execution_count": 16,
   "metadata": {
    "collapsed": false
   },
   "outputs": [
    {
     "data": {
      "text/plain": [
       "LTspiceSimulation!:\n",
       "circuit path = C:\\Users\\Chris\\AppData\\Local\\Temp\\julA109.tmp\\circuit2.asc\n",
       "\n",
       "Parameters\n",
       "rsource                   = 50.0\n",
       "\n",
       "Measurements\n",
       "vload                     stepped simulation\n",
       "pload                     stepped simulation\n",
       "\n",
       "Sweeps\n",
       "rload                    \n",
       "vin                      \n"
      ]
     },
     "execution_count": 16,
     "metadata": {},
     "output_type": "execute_result"
    }
   ],
   "source": [
    "# create an LTspiceSimulation! object for a stepped simulation\n",
    "circuitpath = \"circuit2.asc\"\n",
    "executablepath = \"C:/Program Files (x86)/LTC/LTspiceIV/scad3.exe\"\n",
    "circuit2 = LTspiceSimulation(circuitpath,executablepath)"
   ]
  },
  {
   "cell_type": "code",
   "execution_count": 17,
   "metadata": {
    "collapsed": false
   },
   "outputs": [
    {
     "data": {
      "text/plain": [
       "50.0"
      ]
     },
     "execution_count": 17,
     "metadata": {},
     "output_type": "execute_result"
    }
   ],
   "source": [
    "# parameters are a Dict for stepped simualtion\n",
    "inputresistance = circuit2[\"rsource\"] "
   ]
  },
  {
   "cell_type": "code",
   "execution_count": 18,
   "metadata": {
    "collapsed": false
   },
   "outputs": [
    {
     "ename": "LoadError",
     "evalue": "LoadError: MethodError: `getindex` has no method matching getindex(::LTspice.SteppedLogFile, ::ASCIIString)\nClosest candidates are:\n  getindex(::LTspice.SteppedLogFile, !Matched::Int64, !Matched::Int64, !Matched::Int64, !Matched::Int64)\nwhile loading In[18], in expression starting on line 1",
     "output_type": "error",
     "traceback": [
      "LoadError: MethodError: `getindex` has no method matching getindex(::LTspice.SteppedLogFile, ::ASCIIString)\nClosest candidates are:\n  getindex(::LTspice.SteppedLogFile, !Matched::Int64, !Matched::Int64, !Matched::Int64, !Matched::Int64)\nwhile loading In[18], in expression starting on line 1",
      "",
      " in getindex at C:\\Users\\Chris\\.julia\\v0.4\\LTspice\\src\\LTspice.jl:131"
     ]
    }
   ],
   "source": [
    "loadvoltage = circuit2[\"vload\"] # WRONG. measurements are not"
   ]
  },
  {
   "cell_type": "code",
   "execution_count": 19,
   "metadata": {
    "collapsed": false
   },
   "outputs": [
    {
     "data": {
      "text/plain": [
       "2x7x3x1 Array{Float64,4}:\n",
       "[:, :, 1, 1] =\n",
       " 0.285714    0.375      0.444444    0.5    0.545455    0.583333    0.615385  \n",
       " 0.00408163  0.0046875  0.00493827  0.005  0.00495868  0.00486111  0.00473373\n",
       "\n",
       "[:, :, 2, 1] =\n",
       " 0.285714    0.375      0.444444    0.5    0.545455    0.583333    0.615385  \n",
       " 0.00408163  0.0046875  0.00493827  0.005  0.00495868  0.00486111  0.00473373\n",
       "\n",
       "[:, :, 3, 1] =\n",
       " 0.285714    0.375      0.444444    0.5    0.545455    0.583333    0.615385  \n",
       " 0.00408163  0.0046875  0.00493827  0.005  0.00495868  0.00486111  0.00473373"
      ]
     },
     "execution_count": 19,
     "metadata": {},
     "output_type": "execute_result"
    }
   ],
   "source": [
    "getmeasurements(circuit2) # use getmeasurements instead\n",
    "# indexes are [measurement, inner_step, middle_step, outer_step]\n",
    "# LTspice supports a maximum of 3 .step directives\n",
    "# getmeasurements always returns Array{Float64,4}"
   ]
  },
  {
   "cell_type": "code",
   "execution_count": 20,
   "metadata": {
    "collapsed": false
   },
   "outputs": [
    {
     "data": {
      "text/plain": [
       "2-element Array{ASCIIString,1}:\n",
       " \"rload\"\n",
       " \"vin\"  "
      ]
     },
     "execution_count": 20,
     "metadata": {},
     "output_type": "execute_result"
    }
   ],
   "source": [
    "getstepnames(circuit2) # array of step names"
   ]
  },
  {
   "cell_type": "code",
   "execution_count": 21,
   "metadata": {
    "collapsed": false
   },
   "outputs": [
    {
     "data": {
      "text/plain": [
       "([20.0,30.0,40.0,50.0,60.0,70.0,80.0],[1.0,2.0,3.0],Float64[])"
      ]
     },
     "execution_count": 21,
     "metadata": {},
     "output_type": "execute_result"
    }
   ],
   "source": [
    "getsteps(circuit2) # Tuple of Arrays of step values"
   ]
  },
  {
   "cell_type": "code",
   "execution_count": 22,
   "metadata": {
    "collapsed": false
   },
   "outputs": [],
   "source": [
    "# use PerLineIterator to write circuit2 to csv with headers\n",
    "io = open(\"test.csv\",false,true,true,false,false)\n",
    "pli = PerLineIterator(circuit2) # create iterator to flatten 4d array for .csv \n",
    "writecsv(io,header(pli)) # write the headers\n",
    "writecsv(io,pli) # write the data\n",
    "close(io)"
   ]
  },
  {
   "cell_type": "code",
   "execution_count": 23,
   "metadata": {
    "collapsed": false
   },
   "outputs": [
    {
     "name": "stdout",
     "output_type": "stream",
     "text": [
      "ASCIIString[\"rload\" \"vin\" \"rsource\" \"vload\" \"pload\"]\n",
      "[20.0,1.0,50.0,0.285714,0.00408163]\n",
      "[30.0,1.0,50.0,0.375,0.0046875]\n",
      "[40.0,1.0,50.0,0.444444,0.00493827]\n",
      "[50.0,1.0,50.0,0.5,0.005]\n",
      "[60.0,1.0,50.0,0.545455,0.00495868]\n",
      "[70.0,1.0,50.0,0.583333,0.00486111]\n",
      "[80.0,1.0,50.0,0.615385,0.00473373]\n",
      "[20.0,2.0,50.0,0.285714,0.00408163]\n",
      "[30.0,2.0,50.0,0.375,0.0046875]\n",
      "[40.0,2.0,50.0,0.444444,0.00493827]\n",
      "[50.0,2.0,50.0,0.5,0.005]\n",
      "[60.0,2.0,50.0,0.545455,0.00495868]\n",
      "[70.0,2.0,50.0,0.583333,0.00486111]\n",
      "[80.0,2.0,50.0,0.615385,0.00473373]\n",
      "[20.0,3.0,50.0,0.285714,0.00408163]\n",
      "[30.0,3.0,50.0,0.375,0.0046875]\n",
      "[40.0,3.0,50.0,0.444444,0.00493827]\n",
      "[50.0,3.0,50.0,0.5,0.005]\n",
      "[60.0,3.0,50.0,0.545455,0.00495868]\n",
      "[70.0,3.0,50.0,0.583333,0.00486111]\n",
      "[80.0,3.0,50.0,0.615385,0.00473373]\n"
     ]
    }
   ],
   "source": [
    "# this is what it looks like\n",
    "println(header(pli))\n",
    "for line in pli\n",
    "    println(line)\n",
    "end"
   ]
  },
  {
   "cell_type": "markdown",
   "metadata": {},
   "source": [
    "See the [API](https://github.com/cstook/LTspice.jl/blob/v0r4_working/doc/api.md) for more info."
   ]
  },
  {
   "cell_type": "code",
   "execution_count": null,
   "metadata": {
    "collapsed": true
   },
   "outputs": [],
   "source": []
  }
 ],
 "metadata": {
  "kernelspec": {
   "display_name": "Julia 0.4.0-dev",
   "language": "julia",
   "name": "julia-0.4"
  },
  "language_info": {
   "name": "julia",
   "version": "0.4.0"
  }
 },
 "nbformat": 4,
 "nbformat_minor": 0
}
