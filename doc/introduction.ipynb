{
 "cells": [
  {
   "cell_type": "markdown",
   "metadata": {},
   "source": [
    "#Introduction to LTspice.jl\n",
    "\n",
    "a julia interface to [LTspice<sup>TM</sup>](http://www.linear.com/designtools/software/#LTspice) simualtions"
   ]
  },
  {
   "cell_type": "markdown",
   "metadata": {},
   "source": [
    "<img src=\"circuit1.jpg\">"
   ]
  },
  {
   "cell_type": "code",
   "execution_count": 21,
   "metadata": {
    "collapsed": true
   },
   "outputs": [],
   "source": [
    "using LTspice   # load the module"
   ]
  },
  {
   "cell_type": "code",
   "execution_count": 6,
   "metadata": {
    "collapsed": false
   },
   "outputs": [
    {
     "data": {
      "text/plain": [
       "LTspiceSimulation!:\n",
       "circuit path = C:\\Users\\Chris\\AppData\\Local\\Temp\\jul9FB0.tmp\\circuit1.asc\n",
       "\n",
       "Parameters\n",
       "rsource                   = 50.0\n",
       "rload                     = 75.0\n",
       "\n",
       "Measurements\n",
       "vload                     = NaN\n",
       "pload                     = NaN\n"
      ]
     },
     "execution_count": 6,
     "metadata": {},
     "output_type": "execute_result"
    }
   ],
   "source": [
    "# create an simulation object \n",
    "# with either LTspiceSimulation! or LTspiceSimulation\n",
    "circuitpath = \"circuit1.asc\"\n",
    "executablepath = \"C:/Program Files (x86)/LTC/LTspiceIV/scad3.exe\"\n",
    "circuit1 = LTspiceSimulation(circuitpath,executablepath)"
   ]
  },
  {
   "cell_type": "markdown",
   "metadata": {},
   "source": [
    "Notes: \n",
    "1. Using LTspiceSimulation to create an LTspiceSimulation! object copies circuit to a temporary directory.\n",
    "2. Names are all lower case within julia."
   ]
  },
  {
   "cell_type": "code",
   "execution_count": 7,
   "metadata": {
    "collapsed": false
   },
   "outputs": [
    {
     "data": {
      "text/plain": [
       "50.0"
      ]
     },
     "execution_count": 7,
     "metadata": {},
     "output_type": "execute_result"
    }
   ],
   "source": [
    "# circuit1 is a Dict like object\n",
    "inputresistor = circuit1[\"rsource\"]  # read a paramater by name"
   ]
  },
  {
   "cell_type": "code",
   "execution_count": 8,
   "metadata": {
    "collapsed": false
   },
   "outputs": [
    {
     "data": {
      "text/plain": [
       "40.0"
      ]
     },
     "execution_count": 8,
     "metadata": {},
     "output_type": "execute_result"
    }
   ],
   "source": [
    "circuit1[\"rsource\"] = 40.0  # write parameter by name."
   ]
  },
  {
   "cell_type": "code",
   "execution_count": 9,
   "metadata": {
    "collapsed": false
   },
   "outputs": [
    {
     "data": {
      "text/plain": [
       "0.00567108"
      ]
     },
     "execution_count": 9,
     "metadata": {},
     "output_type": "execute_result"
    }
   ],
   "source": [
    "loadpower = circuit1[\"pload\"] # measurements can also be read by name"
   ]
  },
  {
   "cell_type": "code",
   "execution_count": 10,
   "metadata": {
    "collapsed": false
   },
   "outputs": [
    {
     "data": {
      "text/plain": [
       "LTspiceSimulation!:\n",
       "circuit path = C:\\Users\\Chris\\AppData\\Local\\Temp\\jul9FB0.tmp\\circuit1.asc\n",
       "\n",
       "Parameters\n",
       "rsource                   = 40.0\n",
       "rload                     = 75.0\n",
       "\n",
       "Measurements\n",
       "vload                     = 0.652174\n",
       "pload                     = 0.00567108\n"
      ]
     },
     "execution_count": 10,
     "metadata": {},
     "output_type": "execute_result"
    }
   ],
   "source": [
    "# since a valid measurement was not available, this caused a simulation run\n",
    "circuit1"
   ]
  },
  {
   "cell_type": "code",
   "execution_count": 13,
   "metadata": {
    "collapsed": false
   },
   "outputs": [
    {
     "ename": "LoadError",
     "evalue": "LoadError: measurements cannot be set.\nwhile loading In[13], in expression starting on line 1",
     "output_type": "error",
     "traceback": [
      "LoadError: measurements cannot be set.\nwhile loading In[13], in expression starting on line 1",
      "",
      " in setindex! at C:\\Users\\Chris\\.julia\\v0.4\\LTspice\\src\\LTspice.jl:158"
     ]
    }
   ],
   "source": [
    "circuit1[\"pload\"] = 1.0 # WRONG.  measurements cannot be writen."
   ]
  },
  {
   "cell_type": "code",
   "execution_count": 11,
   "metadata": {
    "collapsed": false
   },
   "outputs": [
    {
     "data": {
      "text/plain": [
       "true"
      ]
     },
     "execution_count": 11,
     "metadata": {},
     "output_type": "execute_result"
    }
   ],
   "source": [
    "haskey(circuit1,\"rload\")  # can check for keys"
   ]
  },
  {
   "cell_type": "code",
   "execution_count": 15,
   "metadata": {
    "collapsed": false
   },
   "outputs": [
    {
     "data": {
      "text/plain": [
       "(ASCIIString[\"rsource\",\"rload\",\"vload\",\"pload\"],[40.0,75.0,0.652174,0.00567108])"
      ]
     },
     "execution_count": 15,
     "metadata": {},
     "output_type": "execute_result"
    }
   ],
   "source": [
    "keys(circuit1),values(circuit1) # arrays of keys and values\n",
    "# unlike standard Dict, these will always be in order."
   ]
  },
  {
   "cell_type": "code",
   "execution_count": 16,
   "metadata": {
    "collapsed": false
   },
   "outputs": [
    {
     "data": {
      "text/plain": [
       "2-element Array{ASCIIString,1}:\n",
       " \"rsource\"\n",
       " \"rload\"  "
      ]
     },
     "execution_count": 16,
     "metadata": {},
     "output_type": "execute_result"
    }
   ],
   "source": [
    "getparameternames(circuit1)  # array of parameter names"
   ]
  },
  {
   "cell_type": "code",
   "execution_count": 17,
   "metadata": {
    "collapsed": false
   },
   "outputs": [
    {
     "data": {
      "text/plain": [
       "2-element Array{Float64,1}:\n",
       " 40.0\n",
       " 75.0"
      ]
     },
     "execution_count": 17,
     "metadata": {},
     "output_type": "execute_result"
    }
   ],
   "source": [
    "getparameters(circuit1) # array of parameter values"
   ]
  },
  {
   "cell_type": "code",
   "execution_count": 18,
   "metadata": {
    "collapsed": false
   },
   "outputs": [
    {
     "data": {
      "text/plain": [
       "2-element Array{ASCIIString,1}:\n",
       " \"vload\"\n",
       " \"pload\""
      ]
     },
     "execution_count": 18,
     "metadata": {},
     "output_type": "execute_result"
    }
   ],
   "source": [
    "getmeasurementnames(circuit1) # array of measurement names"
   ]
  },
  {
   "cell_type": "code",
   "execution_count": 19,
   "metadata": {
    "collapsed": false
   },
   "outputs": [
    {
     "data": {
      "text/plain": [
       "2x1x1x1 Array{Float64,4}:\n",
       "[:, :, 1, 1] =\n",
       " 0.652174  \n",
       " 0.00567108"
      ]
     },
     "execution_count": 19,
     "metadata": {},
     "output_type": "execute_result"
    }
   ],
   "source": [
    "getmeasurements(circuit1) # Array{Float64,4} of measurement values."
   ]
  },
  {
   "cell_type": "code",
   "execution_count": 20,
   "metadata": {
    "collapsed": false
   },
   "outputs": [
    {
     "data": {
      "text/plain": [
       "2-element Array{Float64,1}:\n",
       " 0.666667\n",
       " 0.222222"
      ]
     },
     "execution_count": 20,
     "metadata": {},
     "output_type": "execute_result"
    }
   ],
   "source": [
    "rsource = 1.0\n",
    "rload = 2.0\n",
    "(vload,pload) = circuit1(rsource,rload) # simulation can be called"
   ]
  },
  {
   "cell_type": "markdown",
   "metadata": {},
   "source": [
    "<img src=\"circuit2.jpg\">"
   ]
  },
  {
   "cell_type": "code",
   "execution_count": null,
   "metadata": {
    "collapsed": true
   },
   "outputs": [],
   "source": []
  }
 ],
 "metadata": {
  "kernelspec": {
   "display_name": "Julia 0.4.0-dev",
   "language": "julia",
   "name": "julia-0.4"
  },
  "language_info": {
   "name": "julia",
   "version": "0.4.0"
  }
 },
 "nbformat": 4,
 "nbformat_minor": 0
}
